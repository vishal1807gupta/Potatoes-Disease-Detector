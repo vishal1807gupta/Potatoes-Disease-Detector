{
  "cells": [
    {
      "cell_type": "code",
      "execution_count": null,
      "metadata": {
        "colab": {
          "base_uri": "https://localhost:8080/"
        },
        "id": "bML5Jpf06pLi",
        "outputId": "7f31b3c7-ada3-4ecf-b547-968f2ee55ac9"
      },
      "outputs": [
        {
          "output_type": "stream",
          "name": "stdout",
          "text": [
            "Mounted at /content/drive\n"
          ]
        }
      ],
      "source": [
        "from google.colab import drive\n",
        "drive.mount('/content/drive')"
      ]
    },
    {
      "cell_type": "code",
      "execution_count": 12,
      "metadata": {
        "colab": {
          "base_uri": "https://localhost:8080/"
        },
        "id": "hCCg-jzo6feo",
        "outputId": "23a5af84-f27e-4590-88cd-8a8c62a36712"
      },
      "outputs": [
        {
          "output_type": "stream",
          "name": "stdout",
          "text": [
            "['Potato___Early_blight', 'Potato___healthy', 'Potato___Late_blight']\n",
            "Types of classes labels found:  3\n"
          ]
        }
      ],
      "source": [
        "import numpy as np\n",
        "import tensorflow as tf\n",
        "\n",
        "import numpy as np\n",
        "import pandas as pd\n",
        "import matplotlib.pyplot as plt\n",
        "import os\n",
        "\n",
        "dataset_path = os.listdir('/content/drive/MyDrive/Colab Notebooks/PlantVillage')\n",
        "\n",
        "print (dataset_path)  #what kinds of classes are in this dataset\n",
        "\n",
        "print(\"Types of classes labels found: \", len(dataset_path))"
      ]
    },
    {
      "cell_type": "code",
      "execution_count": 13,
      "metadata": {
        "id": "am90SRXM6fep"
      },
      "outputs": [],
      "source": [
        "class_labels = []\n",
        "\n",
        "for item in dataset_path:\n",
        " # Get all the file names\n",
        " all_classes = os.listdir('/content/drive/MyDrive/Colab Notebooks/PlantVillage' + '/' +item)\n",
        " #print(all_classes)\n",
        "\n",
        " # Add them to the list\n",
        " for room in all_classes:\n",
        "    class_labels.append((item, str('dataset_path' + '/' +item) + '/' + room))\n",
        "    #print(class_labels[:5])"
      ]
    },
    {
      "cell_type": "code",
      "execution_count": 14,
      "metadata": {
        "colab": {
          "base_uri": "https://localhost:8080/"
        },
        "id": "aPk3axQn6feq",
        "outputId": "af7424c9-7413-4201-a3e4-4abb854719dd"
      },
      "outputs": [
        {
          "output_type": "stream",
          "name": "stdout",
          "text": [
            "                  Labels                                              image\n",
            "0  Potato___Early_blight  dataset_path/Potato___Early_blight/001187a0-57...\n",
            "1  Potato___Early_blight  dataset_path/Potato___Early_blight/002a55fb-7a...\n",
            "2  Potato___Early_blight  dataset_path/Potato___Early_blight/009c8c31-f2...\n",
            "3  Potato___Early_blight  dataset_path/Potato___Early_blight/00d8f10f-50...\n",
            "4  Potato___Early_blight  dataset_path/Potato___Early_blight/0182e991-97...\n",
            "                    Labels                                              image\n",
            "2147  Potato___Late_blight  dataset_path/Potato___Late_blight/fe9d57f1-8e0...\n",
            "2148  Potato___Late_blight  dataset_path/Potato___Late_blight/feefc118-443...\n",
            "2149  Potato___Late_blight  dataset_path/Potato___Late_blight/ff03a125-445...\n",
            "2150  Potato___Late_blight  dataset_path/Potato___Late_blight/ff7160f9-f8d...\n",
            "2151  Potato___Late_blight  dataset_path/Potato___Late_blight/fff55a7e-2f8...\n"
          ]
        }
      ],
      "source": [
        "\n",
        "# Build a dataframe\n",
        "df = pd.DataFrame(data=class_labels, columns=['Labels', 'image'])\n",
        "print(df.head())\n",
        "print(df.tail())"
      ]
    },
    {
      "cell_type": "code",
      "execution_count": 15,
      "metadata": {
        "colab": {
          "base_uri": "https://localhost:8080/"
        },
        "id": "D0cTRSGn6feq",
        "outputId": "5412067b-afb5-41db-f85f-ad2e59df5dd0"
      },
      "outputs": [
        {
          "output_type": "stream",
          "name": "stdout",
          "text": [
            "Total number of images in the dataset:  2152\n",
            "Potato___Early_blight    1000\n",
            "Potato___Late_blight     1000\n",
            "Potato___healthy          152\n",
            "Name: Labels, dtype: int64\n"
          ]
        }
      ],
      "source": [
        "# Let's check how many samples for each category are present\n",
        "print(\"Total number of images in the dataset: \", len(df))\n",
        "\n",
        "label_count = df['Labels'].value_counts()\n",
        "print(label_count)"
      ]
    },
    {
      "cell_type": "code",
      "execution_count": 16,
      "metadata": {
        "id": "ON-vWpEA6feq"
      },
      "outputs": [],
      "source": [
        "import cv2\n",
        "path = '/content/drive/MyDrive/Colab Notebooks/PlantVillage/'\n",
        "dataset_path = os.listdir('/content/drive/MyDrive/Colab Notebooks/PlantVillage')\n",
        "\n",
        "im_size = 224\n",
        "\n",
        "images = []\n",
        "labels = []\n",
        "\n",
        "for i in dataset_path:\n",
        "    data_path = path + str(i)\n",
        "    filenames = [i for i in os.listdir(data_path) ]\n",
        "\n",
        "    for f in filenames:\n",
        "        img = cv2.imread(data_path + '/' + f)\n",
        "        img = cv2.resize(img, (im_size, im_size))\n",
        "        images.append(img)\n",
        "        labels.append(i)"
      ]
    },
    {
      "cell_type": "code",
      "execution_count": 17,
      "metadata": {
        "colab": {
          "base_uri": "https://localhost:8080/"
        },
        "id": "OQox62no6feq",
        "outputId": "d74a1b7a-ca7b-40ea-9872-1d57a99d6491"
      },
      "outputs": [
        {
          "output_type": "execute_result",
          "data": {
            "text/plain": [
              "(2152, 224, 224, 3)"
            ]
          },
          "metadata": {},
          "execution_count": 17
        }
      ],
      "source": [
        "\n",
        "#This model takes input images of shape (224, 224, 3), and the input data should range [0, 255].\n",
        "\n",
        "images = np.array(images)\n",
        "\n",
        "images = images.astype('float32') / 255.0\n",
        "images.shape"
      ]
    },
    {
      "cell_type": "code",
      "execution_count": 18,
      "metadata": {
        "colab": {
          "base_uri": "https://localhost:8080/"
        },
        "id": "VXohmb0w6fer",
        "outputId": "ba1ecc6b-0d7a-4151-e9c5-53205cc7590b"
      },
      "outputs": [
        {
          "output_type": "stream",
          "name": "stdout",
          "text": [
            "['Potato___Early_blight' 'Potato___Late_blight' 'Potato___healthy']\n",
            "[0 1 2]\n"
          ]
        }
      ],
      "source": [
        "from sklearn.preprocessing import LabelEncoder , OneHotEncoder\n",
        "y=df['Labels'].values\n",
        "# print(y)\n",
        "y_u = np.unique(y)\n",
        "print(y_u)\n",
        "\n",
        "y_labelencoder = LabelEncoder ()\n",
        "y = y_labelencoder.fit_transform (y)\n",
        "# print (y)\n",
        "y_u = np.unique(y)\n",
        "print(y_u)"
      ]
    },
    {
      "cell_type": "code",
      "execution_count": 19,
      "metadata": {
        "colab": {
          "base_uri": "https://localhost:8080/"
        },
        "id": "ox1ylejz6fer",
        "outputId": "3a4432a2-2cbe-4caa-ccf9-36d1fde75438"
      },
      "outputs": [
        {
          "output_type": "stream",
          "name": "stdout",
          "text": [
            "[[1. 0. 0.]\n",
            " [1. 0. 0.]\n",
            " [1. 0. 0.]\n",
            " [1. 0. 0.]\n",
            " [1. 0. 0.]]\n",
            "[[1. 0. 0.]\n",
            " [1. 0. 0.]\n",
            " [1. 0. 0.]\n",
            " ...\n",
            " [0. 1. 0.]\n",
            " [0. 1. 0.]\n",
            " [0. 1. 0.]]\n"
          ]
        }
      ],
      "source": [
        "\n",
        "y=y.reshape(-1,1)\n",
        "\n",
        "from sklearn.compose import ColumnTransformer\n",
        "ct = ColumnTransformer([('my_ohe', OneHotEncoder(), [0])], remainder='passthrough')\n",
        "Y = ct.fit_transform(y) #.toarray()\n",
        "print(Y[:5])\n",
        "print(Y[35:])"
      ]
    },
    {
      "cell_type": "code",
      "execution_count": 20,
      "metadata": {
        "colab": {
          "base_uri": "https://localhost:8080/"
        },
        "id": "YY0FqFAh6fer",
        "outputId": "7d6bb025-4b31-4ab9-b45f-df174663698c"
      },
      "outputs": [
        {
          "output_type": "stream",
          "name": "stdout",
          "text": [
            "(2044, 224, 224, 3)\n",
            "(2044, 3)\n",
            "(108, 224, 224, 3)\n",
            "(108, 3)\n"
          ]
        }
      ],
      "source": [
        "from sklearn.utils import shuffle\n",
        "from sklearn.model_selection import train_test_split\n",
        "\n",
        "\n",
        "images, Y = shuffle(images, Y, random_state=1)\n",
        "\n",
        "\n",
        "train_x, test_x, train_y, test_y = train_test_split(images, Y, test_size=0.05, random_state=415)\n",
        "\n",
        "#inpect the shape of the training and testing.\n",
        "print(train_x.shape)\n",
        "print(train_y.shape)\n",
        "print(test_x.shape)\n",
        "print(test_y.shape)\n",
        "\n"
      ]
    },
    {
      "cell_type": "code",
      "source": [
        "from keras.preprocessing.image import ImageDataGenerator\n",
        "\n",
        "train_generatorENB0 = ImageDataGenerator(preprocessing_function=lambda x: (x / 127.5) - 1.0,\n",
        "                                         rotation_range=40,\n",
        "                                         width_shift_range=0.25,\n",
        "                                         height_shift_range=0.25,\n",
        "                                         shear_range=0.25,\n",
        "                                         zoom_range=0.25,\n",
        "                                         horizontal_flip=True,\n",
        "                                         fill_mode='nearest',)\n",
        "\n",
        "\n",
        "test_generatorENB0 = ImageDataGenerator(preprocessing_function=lambda x: (x / 127.5) - 1.0)\n",
        "\n",
        "train_generatorENB0.fit(train_x)\n",
        "test_generatorENB0.fit(test_x)"
      ],
      "metadata": {
        "id": "udW9lM-yH8SY"
      },
      "execution_count": 23,
      "outputs": []
    },
    {
      "cell_type": "code",
      "execution_count": 24,
      "metadata": {
        "colab": {
          "base_uri": "https://localhost:8080/"
        },
        "id": "6bt11t48nNxa",
        "outputId": "8fd5a368-82d9-4c60-d0cc-8c4fb8eaf231"
      },
      "outputs": [
        {
          "output_type": "stream",
          "name": "stdout",
          "text": [
            "Downloading data from https://storage.googleapis.com/keras-applications/efficientnetb0_notop.h5\n",
            "16705208/16705208 [==============================] - 0s 0us/step\n",
            "Downloading data from https://storage.googleapis.com/tensorflow/keras-applications/resnet/resnet50_weights_tf_dim_ordering_tf_kernels_notop.h5\n",
            "94765736/94765736 [==============================] - 0s 0us/step\n",
            "Model: \"model\"\n",
            "__________________________________________________________________________________________________\n",
            " Layer (type)                Output Shape                 Param #   Connected to                  \n",
            "==================================================================================================\n",
            " input_layer (InputLayer)    [(None, 224, 224, 3)]        0         []                            \n",
            "                                                                                                  \n",
            " efficientnetb0 (Functional  (None, None, None, 1280)     4049571   ['input_layer[0][0]']         \n",
            " )                                                                                                \n",
            "                                                                                                  \n",
            " resnet50 (Functional)       (None, None, None, 2048)     2358771   ['input_layer[0][0]']         \n",
            "                                                          2                                       \n",
            "                                                                                                  \n",
            " global_average_pooling_lay  (None, 1280)                 0         ['efficientnetb0[0][0]']      \n",
            " er1 (GlobalAveragePooling2                                                                       \n",
            " D)                                                                                               \n",
            "                                                                                                  \n",
            " global_average_pooling_lay  (None, 2048)                 0         ['resnet50[0][0]']            \n",
            " er2 (GlobalAveragePooling2                                                                       \n",
            " D)                                                                                               \n",
            "                                                                                                  \n",
            " concatenate (Concatenate)   (None, 3328)                 0         ['global_average_pooling_layer\n",
            "                                                                    1[0][0]',                     \n",
            "                                                                     'global_average_pooling_layer\n",
            "                                                                    2[0][0]']                     \n",
            "                                                                                                  \n",
            " hidden (Dense)              (None, 1028)                 3422212   ['concatenate[0][0]']         \n",
            "                                                                                                  \n",
            " output_layer (Dense)        (None, 3)                    3087      ['hidden[0][0]']              \n",
            "                                                                                                  \n",
            "==================================================================================================\n",
            "Total params: 31062582 (118.49 MB)\n",
            "Trainable params: 30967439 (118.13 MB)\n",
            "Non-trainable params: 95143 (371.66 KB)\n",
            "__________________________________________________________________________________________________\n",
            "None\n"
          ]
        }
      ],
      "source": [
        "import tensorflow as tf\n",
        "effNet = tf.keras.applications.EfficientNetB0(\n",
        "                            include_top=False,\n",
        "                            weights='imagenet',\n",
        ")\n",
        "\n",
        "# effNet.trainable=False\n",
        "\n",
        "resNet=tf.keras.applications.resnet50.ResNet50(include_top=False,\n",
        "                             weights='imagenet',\n",
        "                             )\n",
        "# resNet.trainable=False\n",
        "\n",
        "\n",
        "input_shape = (224,224, 3)\n",
        "\n",
        "inputs = tf.keras.layers.Input(shape=input_shape, name=\"input_layer\")\n",
        "\n",
        "x = effNet(inputs, training=True)\n",
        "y = resNet(inputs, training=True)\n",
        "\n",
        "x = tf.keras.layers.GlobalAveragePooling2D(name=\"global_average_pooling_layer1\")(x)\n",
        "y = tf.keras.layers.GlobalAveragePooling2D(name=\"global_average_pooling_layer2\")(y)\n",
        "\n",
        "x = tf.keras.layers.Concatenate(axis=1)([x, y])\n",
        "\n",
        "x = tf.keras.layers.Dense(1028, activation=\"relu\", name=\"hidden\")(x)\n",
        "outputs = tf.keras.layers.Dense(3, activation=\"softmax\", name=\"output_layer\")(x)\n",
        "\n",
        "hybrid_model = tf.keras.Model(inputs, outputs)\n",
        "\n",
        "hybrid_model.compile(optimizer='adam', loss='categorical_crossentropy', metrics=['accuracy'])\n",
        "print(hybrid_model.summary())\n"
      ]
    },
    {
      "cell_type": "code",
      "execution_count": 26,
      "metadata": {
        "id": "M3Nwpk9qqALt",
        "colab": {
          "base_uri": "https://localhost:8080/"
        },
        "outputId": "fce0b009-f618-4bc3-9a64-11f54a87a72a"
      },
      "outputs": [
        {
          "output_type": "stream",
          "name": "stdout",
          "text": [
            "Epoch 1/10\n",
            "64/64 - 42s - loss: 0.2367 - accuracy: 0.9560 - 42s/epoch - 654ms/step\n",
            "Epoch 2/10\n",
            "64/64 - 40s - loss: 0.0384 - accuracy: 0.9883 - 40s/epoch - 630ms/step\n",
            "Epoch 3/10\n",
            "64/64 - 40s - loss: 0.0383 - accuracy: 0.9917 - 40s/epoch - 629ms/step\n",
            "Epoch 4/10\n",
            "64/64 - 40s - loss: 0.0171 - accuracy: 0.9941 - 40s/epoch - 630ms/step\n",
            "Epoch 5/10\n",
            "64/64 - 40s - loss: 0.0017 - accuracy: 0.9995 - 40s/epoch - 630ms/step\n",
            "Epoch 6/10\n",
            "64/64 - 40s - loss: 0.0400 - accuracy: 0.9936 - 40s/epoch - 629ms/step\n",
            "Epoch 7/10\n",
            "64/64 - 40s - loss: 0.0372 - accuracy: 0.9907 - 40s/epoch - 630ms/step\n",
            "Epoch 8/10\n",
            "64/64 - 40s - loss: 0.0040 - accuracy: 0.9980 - 40s/epoch - 630ms/step\n",
            "Epoch 9/10\n",
            "64/64 - 40s - loss: 0.0130 - accuracy: 0.9961 - 40s/epoch - 629ms/step\n",
            "Epoch 10/10\n",
            "64/64 - 40s - loss: 0.0261 - accuracy: 0.9932 - 40s/epoch - 628ms/step\n"
          ]
        }
      ],
      "source": [
        "history = hybrid_model.fit(train_x, train_y, epochs=10, verbose=2)"
      ]
    },
    {
      "cell_type": "code",
      "execution_count": 27,
      "metadata": {
        "colab": {
          "base_uri": "https://localhost:8080/"
        },
        "id": "oz3XdSBmvXOL",
        "outputId": "33145a7b-d65c-4a93-8350-55275c792436"
      },
      "outputs": [
        {
          "output_type": "stream",
          "name": "stdout",
          "text": [
            "4/4 [==============================] - 4s 409ms/step - loss: 0.0379 - accuracy: 0.9907\n",
            "Loss = 0.03791128098964691\n",
            "Test Accuracy = 0.9907407164573669\n"
          ]
        }
      ],
      "source": [
        "preds = hybrid_model.evaluate(test_x, test_y)\n",
        "print (\"Loss = \" + str(preds[0]))\n",
        "print (\"Test Accuracy = \" + str(preds[1]))"
      ]
    }
  ],
  "metadata": {
    "accelerator": "GPU",
    "colab": {
      "gpuType": "T4",
      "provenance": []
    },
    "kernelspec": {
      "display_name": "Python 3",
      "name": "python3"
    },
    "language_info": {
      "codemirror_mode": {
        "name": "ipython",
        "version": 3
      },
      "file_extension": ".py",
      "mimetype": "text/x-python",
      "name": "python",
      "nbconvert_exporter": "python",
      "pygments_lexer": "ipython3",
      "version": "3.7.6"
    }
  },
  "nbformat": 4,
  "nbformat_minor": 0
}